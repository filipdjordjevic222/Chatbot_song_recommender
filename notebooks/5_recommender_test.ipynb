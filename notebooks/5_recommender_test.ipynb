{
 "cells": [
  {
   "cell_type": "code",
   "execution_count": null,
   "metadata": {},
   "outputs": [],
   "source": [
    "from dotenv import load_dotenv\n",
    "import os\n",
    "import time\n",
    "# Load environment variables from .env file\n",
    "load_dotenv()\n",
    "\n",
    "# Now you can access the environment variables\n",
    "client_id = os.getenv('SPOTIFY_CLIENT_ID')\n",
    "client_secret = os.getenv('SPOTIFY_CLIENT_SECRET')\n",
    "\n",
    "\n"
   ]
  },
  {
   "cell_type": "code",
   "execution_count": null,
   "metadata": {},
   "outputs": [],
   "source": [
    "import spotipy\n",
    "from spotipy.oauth2 import SpotifyClientCredentials\n",
    "\n",
    "lz_uri = 'spotify:artist:36QJpDe2go2KgaRleHCDTp'\n",
    "\n",
    "spotify = spotipy.Spotify(client_credentials_manager=SpotifyClientCredentials(client_id, client_secret))\n",
    "results = spotify.artist_top_tracks(lz_uri)\n",
    "\n",
    "results = spotify.search(q='Born to die', type='track')\n",
    "print(results)\n",
    "\n",
    "\n",
    "#print(results['tracks'][0]['name'])\n",
    "#for track in results['tracks'][:10]:\n",
    "#    print('track    : ' + track['name'])\n",
    " \n",
    " #   print('cover art: ' + track['album']['images'][0]['url'])\n",
    "  #  print()"
   ]
  },
  {
   "cell_type": "code",
   "execution_count": 3,
   "metadata": {},
   "outputs": [],
   "source": [
    "#for track in results['tracks']:\n",
    "#    print(track['name'])\n"
   ]
  },
  {
   "cell_type": "code",
   "execution_count": null,
   "metadata": {},
   "outputs": [],
   "source": [
    "artist_id = results['tracks']['items'][0]['artists'][0]['id']\n",
    "print(artist_id)"
   ]
  },
  {
   "cell_type": "code",
   "execution_count": null,
   "metadata": {},
   "outputs": [],
   "source": [
    "artist_results= spotify.artist(artist_id)\n",
    "print(artist_results)"
   ]
  },
  {
   "cell_type": "code",
   "execution_count": null,
   "metadata": {},
   "outputs": [],
   "source": [
    "album_id = results['tracks']['items'][0]['album']['id']\n",
    "print(album_id)\n",
    "album_results = spotify.album(album_id)\n",
    "print(album_results)\n"
   ]
  },
  {
   "cell_type": "code",
   "execution_count": 8,
   "metadata": {},
   "outputs": [],
   "source": [
    "import pandas as pd\n",
    "\n",
    "dataset = {\n",
    "    'title': ['Do I Wanna Know?', 'Born to die', 'Shape of You'],\n",
    "    'artist': ['Arctic Monkeys', 'Lana Del Rey', 'Ed Sheeran'],\n",
    "    'album_cover': ['', '', ''],\n",
    "    'preview_url': ['', '', ''],\n",
    "    'album_id': ['', '', ''],\n",
    "    'artist_id': ['', '', ''],\n",
    "    'track_id': ['', '', ''],\n",
    "\n",
    "}\n",
    "\n",
    "dataset_df = pd.DataFrame(dataset)\n",
    "dataset_df\n",
    "\n",
    "counter = 0\n",
    "sleep_time = 30\n",
    "sleep_cycle = 50\n",
    "\n",
    "new_dataset = {\n",
    "    'title': [],\n",
    "    'artist': [],\n",
    "    'album': [],\n",
    "    'album_cover': [],\n",
    "    'preview_url': [],\n",
    "    'popularity': []\n",
    "}\n",
    "\n",
    "for index, row in dataset_df.iterrows():\n",
    "    results = spotify.search(q=f'artist:{row['artist']} track:{row['title']}', type='track', limit=10)  \n",
    "\n",
    "    track_id = results['tracks']['items'][0]['id']\n",
    "    album_id = results['tracks']['items'][0]['album']['id']\n",
    "    artist_id = results['tracks']['items'][0]['artists'][0]['id']\n",
    "\n",
    "    track_results = spotify.track(track_id)\n",
    "    album_results = spotify.album(album_id)\n",
    "    artist_results = spotify.artist(artist_id)\n",
    "\n",
    "    new_dataset['title'].append(row['title'])\n",
    "    new_dataset['artist'].append(row['artist'])\n",
    "    new_dataset['album'].append(album_results['name'])\n",
    "    new_dataset['album_cover'].append(album_results['images'][0]['url'])\n",
    "    new_dataset['preview_url'].append(results['tracks']['items'][0]['preview_url'])\n",
    "    new_dataset['popularity'].append(track_results['popularity'])\n",
    "\n",
    "\n",
    "\n",
    "#print(new_dataset)\n",
    "\n",
    "    counter += 1\n",
    "    if counter % sleep_cycle == 0:\n",
    "        print(f'Sleeping for {sleep_time} seconds')\n",
    "        time.sleep(sleep_time)\n",
    "\n"
   ]
  },
  {
   "cell_type": "code",
   "execution_count": null,
   "metadata": {},
   "outputs": [],
   "source": [
    "new_dataset_df = pd.DataFrame(new_dataset)\n",
    "new_dataset_df\n",
    "\n"
   ]
  }
 ],
 "metadata": {
  "kernelspec": {
   "display_name": "base",
   "language": "python",
   "name": "python3"
  },
  "language_info": {
   "codemirror_mode": {
    "name": "ipython",
    "version": 3
   },
   "file_extension": ".py",
   "mimetype": "text/x-python",
   "name": "python",
   "nbconvert_exporter": "python",
   "pygments_lexer": "ipython3",
   "version": "3.12.2"
  }
 },
 "nbformat": 4,
 "nbformat_minor": 2
}
