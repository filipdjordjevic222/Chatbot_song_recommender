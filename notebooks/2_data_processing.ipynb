{
 "cells": [
  {
   "cell_type": "code",
   "execution_count": 1,
   "metadata": {},
   "outputs": [],
   "source": [
    "import pandas as pd\n",
    "import numpy as np\n",
    "import re"
   ]
  },
  {
   "cell_type": "code",
   "execution_count": 2,
   "metadata": {},
   "outputs": [],
   "source": [
    "# Read the datasets\n",
    "hot100_df = pd.read_csv('../data/1_hot100.csv')\n",
    "million_songs_df = pd.read_csv('../data/2_million_song_subset_raw.csv')"
   ]
  },
  {
   "cell_type": "code",
   "execution_count": 3,
   "metadata": {},
   "outputs": [
    {
     "data": {
      "text/html": [
       "<div>\n",
       "<style scoped>\n",
       "    .dataframe tbody tr th:only-of-type {\n",
       "        vertical-align: middle;\n",
       "    }\n",
       "\n",
       "    .dataframe tbody tr th {\n",
       "        vertical-align: top;\n",
       "    }\n",
       "\n",
       "    .dataframe thead th {\n",
       "        text-align: right;\n",
       "    }\n",
       "</style>\n",
       "<table border=\"1\" class=\"dataframe\">\n",
       "  <thead>\n",
       "    <tr style=\"text-align: right;\">\n",
       "      <th></th>\n",
       "      <th>Rank</th>\n",
       "      <th>Title</th>\n",
       "      <th>Artist</th>\n",
       "    </tr>\n",
       "  </thead>\n",
       "  <tbody>\n",
       "    <tr>\n",
       "      <th>0</th>\n",
       "      <td>1</td>\n",
       "      <td>Die With A Smile</td>\n",
       "      <td>Lady Gaga &amp; Bruno Mars</td>\n",
       "    </tr>\n",
       "    <tr>\n",
       "      <th>1</th>\n",
       "      <td>2</td>\n",
       "      <td>A Bar Song (Tipsy)</td>\n",
       "      <td>Shaboozey</td>\n",
       "    </tr>\n",
       "    <tr>\n",
       "      <th>2</th>\n",
       "      <td>3</td>\n",
       "      <td>Birds Of A Feather</td>\n",
       "      <td>Billie Eilish</td>\n",
       "    </tr>\n",
       "    <tr>\n",
       "      <th>3</th>\n",
       "      <td>4</td>\n",
       "      <td>Lose Control</td>\n",
       "      <td>RE-\\nENTRY</td>\n",
       "    </tr>\n",
       "    <tr>\n",
       "      <th>4</th>\n",
       "      <td>5</td>\n",
       "      <td>APT.</td>\n",
       "      <td>ROSE &amp; Bruno Mars</td>\n",
       "    </tr>\n",
       "  </tbody>\n",
       "</table>\n",
       "</div>"
      ],
      "text/plain": [
       "   Rank               Title                  Artist\n",
       "0     1    Die With A Smile  Lady Gaga & Bruno Mars\n",
       "1     2  A Bar Song (Tipsy)               Shaboozey\n",
       "2     3  Birds Of A Feather           Billie Eilish\n",
       "3     4        Lose Control              RE-\\nENTRY\n",
       "4     5                APT.       ROSE & Bruno Mars"
      ]
     },
     "execution_count": 3,
     "metadata": {},
     "output_type": "execute_result"
    }
   ],
   "source": [
    "hot100_df.head()"
   ]
  },
  {
   "cell_type": "code",
   "execution_count": 4,
   "metadata": {},
   "outputs": [
    {
     "data": {
      "text/html": [
       "<div>\n",
       "<style scoped>\n",
       "    .dataframe tbody tr th:only-of-type {\n",
       "        vertical-align: middle;\n",
       "    }\n",
       "\n",
       "    .dataframe tbody tr th {\n",
       "        vertical-align: top;\n",
       "    }\n",
       "\n",
       "    .dataframe thead th {\n",
       "        text-align: right;\n",
       "    }\n",
       "</style>\n",
       "<table border=\"1\" class=\"dataframe\">\n",
       "  <thead>\n",
       "    <tr style=\"text-align: right;\">\n",
       "      <th></th>\n",
       "      <th>title;artist</th>\n",
       "    </tr>\n",
       "  </thead>\n",
       "  <tbody>\n",
       "    <tr>\n",
       "      <th>0</th>\n",
       "      <td>b'Je Sais Que La Terre Est Plate';b'Rapha\\xc3\\...</td>\n",
       "    </tr>\n",
       "    <tr>\n",
       "      <th>1</th>\n",
       "      <td>b'On Efface';b'Julie Zenatti'</td>\n",
       "    </tr>\n",
       "    <tr>\n",
       "      <th>2</th>\n",
       "      <td>b'Howells Delight';b'The Baltimore Consort'</td>\n",
       "    </tr>\n",
       "    <tr>\n",
       "      <th>3</th>\n",
       "      <td>b'Martha Served';b'I Hate Sally'</td>\n",
       "    </tr>\n",
       "    <tr>\n",
       "      <th>4</th>\n",
       "      <td>b'Zip-A-Dee-Doo-Dah (Song of the South)';b'Orl...</td>\n",
       "    </tr>\n",
       "  </tbody>\n",
       "</table>\n",
       "</div>"
      ],
      "text/plain": [
       "                                        title;artist\n",
       "0  b'Je Sais Que La Terre Est Plate';b'Rapha\\xc3\\...\n",
       "1                      b'On Efface';b'Julie Zenatti'\n",
       "2        b'Howells Delight';b'The Baltimore Consort'\n",
       "3                   b'Martha Served';b'I Hate Sally'\n",
       "4  b'Zip-A-Dee-Doo-Dah (Song of the South)';b'Orl..."
      ]
     },
     "execution_count": 4,
     "metadata": {},
     "output_type": "execute_result"
    }
   ],
   "source": [
    "million_songs_df.head()"
   ]
  },
  {
   "cell_type": "code",
   "execution_count": 5,
   "metadata": {},
   "outputs": [],
   "source": [
    "def clean_text(text):\n",
    "    \"\"\"Clean text by removing special characters and standardizing format\"\"\"\n",
    "    if pd.isna(text):\n",
    "        return text\n",
    "    \n",
    "    # Convert to string and handle byte strings\n",
    "    text = str(text)\n",
    "    if text.startswith(\"b'\") or text.startswith('b\"'):\n",
    "        text = text[2:-1]  # Remove b'' or b\"\"\n",
    "    \n",
    "    # Decode special characters\n",
    "    text = text.encode('latin-1').decode('utf-8', errors='ignore')\n",
    "    \n",
    "    # Remove special characters and extra spaces\n",
    "    text = re.sub(r'[^\\w\\s]', '', text)\n",
    "    text = ' '.join(text.split())\n",
    "    \n",
    "    return text.lower().strip()\n",
    "\n",
    "def clean_artist_name(artist):\n",
    "    \"\"\"Clean artist names by removing featuring, etc.\"\"\"\n",
    "    if pd.isna(artist):\n",
    "        return artist\n",
    "    \n",
    "    artist = clean_text(artist)\n",
    "    artist = re.sub(r'\\([^)]*\\)', '', artist)\n",
    "    artist = re.sub(r'feat\\..*|ft\\..*', '', artist)\n",
    "    \n",
    "    return artist.strip()\n",
    "\n",
    "def split_title_artist(row):\n",
    "    \"\"\"Split the combined title;artist string\"\"\"\n",
    "    parts = str(row).split(';')\n",
    "    return pd.Series({'Title': parts[0], 'Artist': parts[1] if len(parts) > 1 else ''})"
   ]
  },
  {
   "cell_type": "code",
   "execution_count": 6,
   "metadata": {},
   "outputs": [
    {
     "name": "stdout",
     "output_type": "stream",
     "text": [
      "Sample of cleaned Hot 100 data:\n"
     ]
    },
    {
     "data": {
      "text/html": [
       "<div>\n",
       "<style scoped>\n",
       "    .dataframe tbody tr th:only-of-type {\n",
       "        vertical-align: middle;\n",
       "    }\n",
       "\n",
       "    .dataframe tbody tr th {\n",
       "        vertical-align: top;\n",
       "    }\n",
       "\n",
       "    .dataframe thead th {\n",
       "        text-align: right;\n",
       "    }\n",
       "</style>\n",
       "<table border=\"1\" class=\"dataframe\">\n",
       "  <thead>\n",
       "    <tr style=\"text-align: right;\">\n",
       "      <th></th>\n",
       "      <th>Rank</th>\n",
       "      <th>Title</th>\n",
       "      <th>Artist</th>\n",
       "      <th>Hot100</th>\n",
       "    </tr>\n",
       "  </thead>\n",
       "  <tbody>\n",
       "    <tr>\n",
       "      <th>0</th>\n",
       "      <td>1</td>\n",
       "      <td>die with a smile</td>\n",
       "      <td>lady gaga bruno mars</td>\n",
       "      <td>True</td>\n",
       "    </tr>\n",
       "    <tr>\n",
       "      <th>1</th>\n",
       "      <td>2</td>\n",
       "      <td>a bar song tipsy</td>\n",
       "      <td>shaboozey</td>\n",
       "      <td>True</td>\n",
       "    </tr>\n",
       "    <tr>\n",
       "      <th>2</th>\n",
       "      <td>3</td>\n",
       "      <td>birds of a feather</td>\n",
       "      <td>billie eilish</td>\n",
       "      <td>True</td>\n",
       "    </tr>\n",
       "    <tr>\n",
       "      <th>3</th>\n",
       "      <td>4</td>\n",
       "      <td>lose control</td>\n",
       "      <td>re entry</td>\n",
       "      <td>True</td>\n",
       "    </tr>\n",
       "    <tr>\n",
       "      <th>4</th>\n",
       "      <td>5</td>\n",
       "      <td>apt</td>\n",
       "      <td>rose bruno mars</td>\n",
       "      <td>True</td>\n",
       "    </tr>\n",
       "  </tbody>\n",
       "</table>\n",
       "</div>"
      ],
      "text/plain": [
       "   Rank               Title                Artist  Hot100\n",
       "0     1    die with a smile  lady gaga bruno mars    True\n",
       "1     2    a bar song tipsy             shaboozey    True\n",
       "2     3  birds of a feather         billie eilish    True\n",
       "3     4        lose control              re entry    True\n",
       "4     5                 apt       rose bruno mars    True"
      ]
     },
     "execution_count": 6,
     "metadata": {},
     "output_type": "execute_result"
    }
   ],
   "source": [
    "\n",
    "# Clean Hot 100 dataset\n",
    "hot100_clean = hot100_df.copy()\n",
    "hot100_clean['Title'] = hot100_clean['Title'].apply(clean_text)\n",
    "hot100_clean['Artist'] = hot100_clean['Artist'].apply(clean_artist_name)\n",
    "hot100_clean['Hot100'] = True\n",
    "\n",
    "# Display sample of cleaned Hot 100 data\n",
    "print(\"Sample of cleaned Hot 100 data:\")\n",
    "hot100_clean.head()"
   ]
  },
  {
   "cell_type": "code",
   "execution_count": 7,
   "metadata": {
    "vscode": {
     "languageId": "ruby"
    }
   },
   "outputs": [
    {
     "data": {
      "text/html": [
       "<div>\n",
       "<style scoped>\n",
       "    .dataframe tbody tr th:only-of-type {\n",
       "        vertical-align: middle;\n",
       "    }\n",
       "\n",
       "    .dataframe tbody tr th {\n",
       "        vertical-align: top;\n",
       "    }\n",
       "\n",
       "    .dataframe thead th {\n",
       "        text-align: right;\n",
       "    }\n",
       "</style>\n",
       "<table border=\"1\" class=\"dataframe\">\n",
       "  <thead>\n",
       "    <tr style=\"text-align: right;\">\n",
       "      <th></th>\n",
       "      <th>Title</th>\n",
       "      <th>Artist</th>\n",
       "      <th>Hot100</th>\n",
       "    </tr>\n",
       "  </thead>\n",
       "  <tbody>\n",
       "    <tr>\n",
       "      <th>0</th>\n",
       "      <td>je sais que la terre est plate</td>\n",
       "      <td>raphaxc3xabl</td>\n",
       "      <td>False</td>\n",
       "    </tr>\n",
       "    <tr>\n",
       "      <th>1</th>\n",
       "      <td>on efface</td>\n",
       "      <td>julie zenatti</td>\n",
       "      <td>False</td>\n",
       "    </tr>\n",
       "    <tr>\n",
       "      <th>2</th>\n",
       "      <td>howells delight</td>\n",
       "      <td>the baltimore consort</td>\n",
       "      <td>False</td>\n",
       "    </tr>\n",
       "    <tr>\n",
       "      <th>3</th>\n",
       "      <td>martha served</td>\n",
       "      <td>i hate sally</td>\n",
       "      <td>False</td>\n",
       "    </tr>\n",
       "    <tr>\n",
       "      <th>4</th>\n",
       "      <td>zipadeedoodah song of the south</td>\n",
       "      <td>orlando pops orchestra</td>\n",
       "      <td>False</td>\n",
       "    </tr>\n",
       "  </tbody>\n",
       "</table>\n",
       "</div>"
      ],
      "text/plain": [
       "                             Title                  Artist  Hot100\n",
       "0   je sais que la terre est plate            raphaxc3xabl   False\n",
       "1                        on efface           julie zenatti   False\n",
       "2                  howells delight   the baltimore consort   False\n",
       "3                    martha served            i hate sally   False\n",
       "4  zipadeedoodah song of the south  orlando pops orchestra   False"
      ]
     },
     "execution_count": 7,
     "metadata": {},
     "output_type": "execute_result"
    }
   ],
   "source": [
    "# Split and clean Million Songs data\n",
    "million_songs_clean = million_songs_df['title;artist'].apply(split_title_artist)\n",
    "million_songs_clean['Title'] = million_songs_clean['Title'].apply(clean_text)\n",
    "million_songs_clean['Artist'] = million_songs_clean['Artist'].apply(clean_artist_name)\n",
    "million_songs_clean['Hot100'] = False\n",
    "\n",
    "\n",
    "million_songs_clean.head()"
   ]
  },
  {
   "cell_type": "code",
   "execution_count": 8,
   "metadata": {
    "vscode": {
     "languageId": "ruby"
    }
   },
   "outputs": [
    {
     "name": "stdout",
     "output_type": "stream",
     "text": [
      "\n",
      "Missing values in combined dataset:\n",
      "Title     0\n",
      "Artist    0\n",
      "Hot100    0\n",
      "dtype: int64\n",
      "\n",
      "Dataset statistics:\n",
      "Total number of tracks: 10039\n",
      "Number of Hot 100 tracks: 100\n",
      "Number of Million Songs tracks: 9939\n"
     ]
    }
   ],
   "source": [
    "#Combine datasets\n",
    "combined_df = pd.concat([\n",
    "    hot100_clean[['Title', 'Artist', 'Hot100']],\n",
    "    million_songs_clean[['Title', 'Artist', 'Hot100']]\n",
    "], ignore_index=True)\n",
    "\n",
    "# Remove duplicates\n",
    "combined_df = combined_df.drop_duplicates(subset=['Title', 'Artist'])\n",
    "\n",
    "# Check for missing values\n",
    "print(\"\\nMissing values in combined dataset:\")\n",
    "print(combined_df.isnull().sum())\n",
    "\n",
    "# Basic statistics\n",
    "print(\"\\nDataset statistics:\")\n",
    "print(f\"Total number of tracks: {len(combined_df)}\")\n",
    "print(f\"Number of Hot 100 tracks: {combined_df['Hot100'].sum()}\")\n",
    "print(f\"Number of Million Songs tracks: {(~combined_df['Hot100']).sum()}\")"
   ]
  },
  {
   "cell_type": "code",
   "execution_count": 9,
   "metadata": {
    "vscode": {
     "languageId": "ruby"
    }
   },
   "outputs": [],
   "source": [
    "combined_df.to_csv('../data/3_combined_clean_dataset.csv', index=False)"
   ]
  }
 ],
 "metadata": {
  "kernelspec": {
   "display_name": "base",
   "language": "python",
   "name": "python3"
  },
  "language_info": {
   "codemirror_mode": {
    "name": "ipython",
    "version": 3
   },
   "file_extension": ".py",
   "mimetype": "text/x-python",
   "name": "python",
   "nbconvert_exporter": "python",
   "pygments_lexer": "ipython3",
   "version": "3.12.2"
  }
 },
 "nbformat": 4,
 "nbformat_minor": 2
}
