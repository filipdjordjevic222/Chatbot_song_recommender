{
 "cells": [
  {
   "cell_type": "markdown",
   "metadata": {},
   "source": [
    "## Top 100 bilboard webscraping\n"
   ]
  },
  {
   "cell_type": "code",
   "execution_count": 1,
   "metadata": {},
   "outputs": [],
   "source": [
    "import requests\n",
    "import pandas as pd\n",
    "from bs4 import BeautifulSoup\n"
   ]
  },
  {
   "cell_type": "code",
   "execution_count": 3,
   "metadata": {},
   "outputs": [
    {
     "name": "stdout",
     "output_type": "stream",
     "text": [
      "  rank               title                  artist\n",
      "0    1    Die With A Smile  Lady Gaga & Bruno Mars\n",
      "1    2  A Bar Song (Tipsy)               Shaboozey\n",
      "2    3  Birds Of A Feather           Billie Eilish\n",
      "3    4        Lose Control              RE-\\nENTRY\n",
      "4    5                APT.       ROSE & Bruno Mars\n"
     ]
    }
   ],
   "source": [
    "import requests\n",
    "from bs4 import BeautifulSoup\n",
    "import pandas as pd\n",
    "\n",
    "def scrape_billboard_hot100():\n",
    "    # URL of Billboard Hot 100\n",
    "    url = \"https://www.billboard.com/charts/hot-100/\"\n",
    "    \n",
    "    # Send GET request\n",
    "    response = requests.get(url)\n",
    "    \n",
    "    # Create BeautifulSoup object\n",
    "    soup = BeautifulSoup(response.text, 'html.parser')\n",
    "    \n",
    "    # Lists to store data\n",
    "    titles = []\n",
    "    artists = []\n",
    "    ranks = []\n",
    "    \n",
    "    # Find all song entries\n",
    "    song_entries = soup.find_all('div', class_='o-chart-results-list-row-container')\n",
    "    \n",
    "    for entry in song_entries:\n",
    "        try:\n",
    "            # Extract rank\n",
    "            rank = entry.find('span', class_='c-label').text.strip()\n",
    "            \n",
    "            # Extract title\n",
    "            title = entry.find('h3', class_='c-title').text.strip()\n",
    "            \n",
    "            # Extract artist\n",
    "            artist = entry.find('span', class_='c-label').find_next('span', class_='c-label').text.strip()\n",
    "            \n",
    "            ranks.append(rank)\n",
    "            titles.append(title)\n",
    "            artists.append(artist)\n",
    "            \n",
    "        except AttributeError:\n",
    "            continue\n",
    "    \n",
    "    # Create DataFrame\n",
    "    df = pd.DataFrame({\n",
    "        'rank': ranks,\n",
    "        'title': titles,\n",
    "        'artist': artists\n",
    "    })\n",
    "    \n",
    "    # Save to CSV\n",
    "    df.to_csv('../data/1_hot100.csv', index=False)\n",
    "    \n",
    "    return df\n",
    "\n",
    "# Run the scraper\n",
    "hot100_df = scrape_billboard_hot100()\n",
    "print(hot100_df.head())"
   ]
  },
  {
   "cell_type": "code",
   "execution_count": null,
   "metadata": {},
   "outputs": [],
   "source": []
  },
  {
   "cell_type": "code",
   "execution_count": null,
   "metadata": {},
   "outputs": [],
   "source": []
  }
 ],
 "metadata": {
  "kernelspec": {
   "display_name": "base",
   "language": "python",
   "name": "python3"
  },
  "language_info": {
   "codemirror_mode": {
    "name": "ipython",
    "version": 3
   },
   "file_extension": ".py",
   "mimetype": "text/x-python",
   "name": "python",
   "nbconvert_exporter": "python",
   "pygments_lexer": "ipython3",
   "version": "3.12.2"
  }
 },
 "nbformat": 4,
 "nbformat_minor": 2
}
